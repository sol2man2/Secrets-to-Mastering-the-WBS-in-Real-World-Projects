{
 "cells": [
  {
   "cell_type": "markdown",
   "metadata": {},
   "source": [
    "# Overview\n",
    "\n",
    "* 프로젝트 실패 원인중에 하나로 프로젝트의 범위를 명확히 이해하지 못해서 관리를 못할 떄 발생한다고 강조하고 있다.\n",
    "* 결과적으로 많은 변경과 직면하게 된다.\n",
    "* 와! 이걸 WBS를 사용하지 않아서라고 단정해 버리네.\n",
    "* As Malcolm Gladwell said, “Practice isn't the thing you do once you're good. It's the thing you do that makes you good.”\n",
    " * 말콤이 이렇게 말했다는데, WBS를 사용하라고 또 강조한다.\n",
    "* 통달할 때까지 꾸준한 연습이 필요하고 여기선 20개 혜택을 논한단다."
   ]
  },
  {
   "cell_type": "markdown",
   "metadata": {},
   "source": [
    "# 1. Understand work at early stages"
   ]
  },
  {
   "cell_type": "markdown",
   "metadata": {},
   "source": [
    "* 프로젝트 초기에 팀은 프로젝트에 대한 좋은 이해를 갖지 못한다.\n",
    "* 월욜에 PM이 할당되어 수욜에 일정과 계획을 가져오라는 경우를 봤다는군.\n",
    "* 프로젝트가 시작도 하기 전에 프로젝트 초기 일정과 계획을 보는 우려스러움들이 많다.\n",
    "* 상위 관리자는 PM에게 일정을 바로 요청하게 되지만 전체 Project의 Scope를 제대로 이해하진 못한 상태다.\n",
    "* 그리하야 실행중에 타스크 중 일부가 식별도 예산도 일정도 잡혀 있지 않다는 걸 깨닫게 된다.\n",
    "* 결과는 예산을 올리고 예상치 못한 일들이 증가되고 범위와 일정을 줄이려고 협상을 시작한다.\n",
    "* 잘 정의된 WBS의 가장 중요한 혜택은 \"**프로젝트의 초기 단계에 실제 프로젝트의 작업을 이해하는데 실질적인 도움을 둔다**\" 할 수 있지"
   ]
  },
  {
   "cell_type": "markdown",
   "metadata": {},
   "source": [
    "# 2. Avoid uncontrolled changes"
   ]
  },
  {
   "cell_type": "markdown",
   "metadata": {},
   "source": [
    "* 좋은 WBS는 제어되지 않는 변경(scope-creep)을 피할 수 있게 도와 준다. 범위스멀\n",
    "* 프로젝트 실행전에 범위정의가 명확할 수록 변경요청의 수요가 덜해지면서 성공할 기회가 높아진다.\n",
    "* 때론 프로젝트는 범위가 매우 느리게 파생하기 시작한다.\n",
    "* 요걸 알아채지 못하면 범위 변화를 제어할 수 없다.\n",
    "* 전문가들이 만든 잘 정의된 WBS와 함께하면 프로젝트 팀, 이해 관계인과 당신은 필요한 모든 작업을 잡아낼 더 많은 기획를 얻게 되어 범위 변경 요청건을 줄일 수 있다."
   ]
  },
  {
   "cell_type": "markdown",
   "metadata": {},
   "source": [
    "# 3. Deliver what is expected"
   ]
  },
  {
   "cell_type": "markdown",
   "metadata": {},
   "source": [
    "* WBS의 실무 표준은 **\"WBS는 작업이 완성될 때까지 관리하는 프래임워크를 수립한다.\"**를 강조한다.\n",
    "* WBS는 범위 진술서에 명시된 프로젝트가 만들어내는 산출물, 성과물과 배포물을 배포하게 끔 돕는다.\n",
    "* WBS에 범위를 기술하고 나면 팀은 배포물이 성공적으로 완성될 때까지 작업할 수 있다."
   ]
  },
  {
   "cell_type": "markdown",
   "metadata": {},
   "source": [
    "# 4. Understand areas with limited understanding"
   ]
  },
  {
   "cell_type": "markdown",
   "metadata": {},
   "source": [
    "* 저자가 관리한 프로젝트 중에 가장 중요한 작업은 웹 컨퍼런싱 시스템을 구매하는 조달 공정이다. 이 시스템은 웨재에서 개인이 가상으로 작업하고 상호 작용을 지원한다.\n",
    " * 와이트 보드, 서베이, 노트, 웹캠 등\n",
    "* 전에 이런 시스템을 사 본적이 없다.\n",
    "* 결과적으로 작업의 범위 초안을 생성하여 WBS의 일부로 놓고 웹 컨퍼런싱 솔루션에 경험이 있는 조직 내외의 인원에게 조언을 구했다.\n",
    "* 요거이 내가 성공적으로 했던 조달 공정였다.\n",
    "* WBS는 초기에는 이해가 부족했던 작업 영역을 이해하는데 도움을 준다."
   ]
  },
  {
   "cell_type": "markdown",
   "metadata": {},
   "source": [
    "# 5. Visualize internal and external work"
   ]
  },
  {
   "cell_type": "markdown",
   "metadata": {},
   "source": [
    "* WBS는 내부에서 할 작업과 외부에서 획득해야 할 작업으로 이루어진 범위를 식별하게 돕는다.\n",
    "* 팀이 뭘할지? 제공자가 뭔 책임을 질지를 가시화해준다."
   ]
  },
  {
   "cell_type": "markdown",
   "metadata": {},
   "source": [
    "# 6. Visualize project boundaries and manage complexities"
   ]
  },
  {
   "cell_type": "markdown",
   "metadata": {},
   "source": [
    "* WBS는 이해 관계자가 WBS 범위 내 작업과 외 작업을 명쾌하고 쉽게 이해하고 가시화하게 한다.\n",
    "* 프로젝트의 성과의 깔끔한 비전을 제시하고 프로젝트의 모든 작업을 이해하게 한다.\n",
    "* 이해 관계자가 범위와 관련하여 의문을 가질 때 WBS를 참조할 수 있다.\n",
    "* 프로젝트 범위를 간단한 컴포넌트로 쪼개기 때문에 복잡한 프로젝트를 관리하는 으뜸의 방법중에 하나는 당연 WBS다."
   ]
  },
  {
   "cell_type": "markdown",
   "metadata": {},
   "source": [
    "# 7. Provide a baseline for scope change control"
   ]
  },
  {
   "cell_type": "markdown",
   "metadata": {},
   "source": [
    "* WBS는 범위 변경 제어를 위한 베이스라인이다.\n",
    "* 이게 뭘 의미하냐면?\n",
    " * WBS는 리뷰하고 승인하는 공정을 거치도록 가이드한단 의미다.\n",
    " * WBS는 변경 요청이 왔을 때 어떻게 반응하고 마주할지에 대한 가이드다.\n",
    "* 책 출판에서 스페인어를 중국어로 출판할 때 등.\n",
    "* 책 출판 WBS에 번역에 대한 내용을 없기 떄문에 커스터머가 원하면 번역을 프로젝에 추가할 수 있다. 이런식으로 변경이 일어 난다."
   ]
  },
  {
   "cell_type": "markdown",
   "metadata": {},
   "source": [
    "# 8. Assign and explain the work"
   ]
  },
  {
   "cell_type": "markdown",
   "metadata": {},
   "source": [
    "* WBS는 작업의 배정을 돕는다.\n",
    "* PM이나 PL은 WBS의 컴포넌트를 위한 작업이 뭔지 설명할 수 있도록 한다.\n",
    "* 각 컴포넌트는 개인에게 할당되고 그 사람을 책임을 갖는다.\n",
    "* 일을 혼자할지 나눠할지는 중요하지 않다. 책임자가 챙긴다."
   ]
  },
  {
   "cell_type": "markdown",
   "metadata": {},
   "source": [
    "<img src='./figures/f2.1.jpg'>"
   ]
  },
  {
   "cell_type": "markdown",
   "metadata": {},
   "source": [
    "# 9. Enhance project planning"
   ]
  },
  {
   "cell_type": "markdown",
   "metadata": {},
   "source": [
    "* 잘 정의된 WBS는 프로젝트 계획 활동에 효과가 좋다.\n",
    "* 왜서냐면 일단 좋은 WBS를 가지면 프로젝트 활동을 식별하여 정의하기 쉽다.\n",
    "* WBS 컴포넌트에 소요 비용을 추정하기 쉽기에 필요한 예산도 바로 파악된다.\n",
    "* 각 컴포넌트의 수행 기간과 수행하기 위한 자원도 바로 추정된다.\n",
    "* WBS는 **더 빠르고 더 좋게 계획할 수 있게 한다.**"
   ]
  },
  {
   "cell_type": "markdown",
   "metadata": {},
   "source": [
    "# 10. Avoid replanning and detect early warnings"
   ]
  },
  {
   "cell_type": "markdown",
   "metadata": {},
   "source": [
    "* 제어되지 않는 변경과 관련하여 WBS는 재계획을 최소화하게 한다.\n",
    "* 승인된 예산을 초과하거나 납기를 놓치는 일이 없게 한다.\n",
    "* 프로젝트의 초기 경고를 파악하기에 유용하다.\n",
    "* WBS는 Project management 공정에 핵심 입력물이다"
   ]
  },
  {
   "cell_type": "markdown",
   "metadata": {},
   "source": [
    "# 11. Build strong foundations for acquisitions"
   ]
  },
  {
   "cell_type": "markdown",
   "metadata": {},
   "source": [
    "* WBS는 성공적인 작업 기술서, 계약과 획득을 위한 좋은 기초이다.\n",
    "* 획득이 필요한 제품, 서비스와 결과의 이해력이 높을 때, RFP에 솔루션을 설명할 수 있는 좋은 위치를 점하게 된다."
   ]
  },
  {
   "cell_type": "markdown",
   "metadata": {},
   "source": [
    "# 12. Improve communications"
   ]
  },
  {
   "cell_type": "markdown",
   "metadata": {},
   "source": [
    "* 이해 관계자에게 프로젝트 정보를 소통하는데 유용하다. 특히 프로젝트 범위와 관련된 정보에서 있어선.\n",
    "* 프로젝트를 넘어선 범위까지 소통할 수 있다. (ch. 10)\n",
    " * 색상이나 기법을 통해 소통을 돕는 팁이 있단다.\n",
    "* 더 복잡한 프로젝트에선 WBS가 프로젝트의 복잡성을 논하는데 좋다.\n",
    "* WBS로 프로젝트의 복잡성과 차원을 관리한다."
   ]
  },
  {
   "cell_type": "markdown",
   "metadata": {},
   "source": [
    "# 13. Achieve a common understanding of the work"
   ]
  },
  {
   "cell_type": "markdown",
   "metadata": {},
   "source": [
    "* 이해 관계자는 범위와 WBS에 대한 피드백을 제공할 수 있고 프로젝트 성과에 대한 일반적인 기대에 이르게 하여 모든 사람이 작업에 대한 이해를 명쾌하게 할 수 있다.\n",
    "* 공통의 이해는 그림 2.2가 표현하는 것들을 피할 수 있게 한다.\n",
    " * 커스터머는 하나의 성과를 기대하고 이해 관계자마다 다른 것 생각하는 상황"
   ]
  },
  {
   "cell_type": "markdown",
   "metadata": {},
   "source": [
    "<img src='./figures/f2.2.jpg'>"
   ]
  },
  {
   "cell_type": "markdown",
   "metadata": {},
   "source": [
    "# 14. Improve project reporting"
   ]
  },
  {
   "cell_type": "markdown",
   "metadata": {},
   "source": [
    "* WBS 전형적인 용도를 넘어 새로운 곳에 적용하여 확장 가능하다.\n",
    "* 예로, WBS로 보고 하기. 보고를 WBS에 기반하여 할 수 있단 얘기\n",
    " * 산출물이 완료되면 진척이 됐단거.\n",
    "* 결국 Project의 상태와 진척 보고가 가능하단 얘기 (ch.10)"
   ]
  },
  {
   "cell_type": "markdown",
   "metadata": {},
   "source": [
    "# 15. Gain stakeholders' buy-in"
   ]
  },
  {
   "cell_type": "markdown",
   "metadata": {},
   "source": [
    "* 팀과 이해 관계자는 중요 의사결정에 참여하고 싶어 한다. 이는 범위 선정때 동참하겠단 거쥐.\n",
    "* WBS는 PM, 팀, 이해 관계자의 결합 공수로 완성된다.\n",
    "* 결과적으로 작업 정의에 이해 관계자가 참여하게 된다.\n",
    "* 저자의 경험으로 봤을 때, 아는 만큼 최대한 WBS 초안으 작성한다.\n",
    " * 팀과 리뷰하고\n",
    " * 필요하면 전문가의 조언을 얻는다.\n",
    " * 팀에 비즈니스 분석가가 있을 땐, 초기부터 그와 같이 작업한다.\n",
    "* 이런 절차를 밟아 WBS를 완성하고 결재를 득하여 프로젝트의 범위 베이스라인으로 삼는다."
   ]
  },
  {
   "cell_type": "markdown",
   "metadata": {},
   "source": [
    "# 16. Monitor, measure and control work better"
   ]
  },
  {
   "cell_type": "markdown",
   "metadata": {},
   "source": [
    "* WBS는 프로젝트를 감시하고 측정하고 제어하는 도구다.\n",
    "* WBS는 가치있는 소통의 도구이다\n",
    "* 주요 정보를 보고하고 소통함으로써 프로젝트를 감시하는 툴로서 작동한다."
   ]
  },
  {
   "cell_type": "markdown",
   "metadata": {},
   "source": [
    "# 17. Inspire confidence and gain credibility"
   ]
  },
  {
   "cell_type": "markdown",
   "metadata": {},
   "source": [
    "* 프로젝트 초기에 팀이 작업에 대한 이해를 통해 이해 관계자에게 신뢰를 주어 성공 가능성을 높인다.\n",
    "* 프로젝트 스폰서는 WBS를 확인하여 범위와 배포물에 대한 이해를 얻는다.\n",
    "* 범위를 맞춤 정의하면 스폰서나 커스터머는 프로젝트가 잘 관리되고 있구나라고 느끼게 하고 팀의 신용을 구축한다.\n",
    "* confidence와 credibility의 차이는 뭘까?"
   ]
  },
  {
   "cell_type": "markdown",
   "metadata": {},
   "source": [
    "# 18. Improve future projects"
   ]
  },
  {
   "cell_type": "markdown",
   "metadata": {},
   "source": [
    "* 좋은 WBS는 향후 유사한 프로젝트에 템플릿으로 사용될 수도 있다.\n",
    "* 미래에 개선을 위해서 WBS를 레슨런을 얻는데 사용할 수 있다."
   ]
  },
  {
   "cell_type": "markdown",
   "metadata": {},
   "source": [
    "# 19. Compare scope among projects"
   ]
  },
  {
   "cell_type": "markdown",
   "metadata": {},
   "source": [
    "* WBS의 기타 혜택은 하나의 프로그램 내에 두 프로젝트간에 작업의 범위를 비교할 때 사용된다.\n",
    "* 회사엔 수백개의 프로젝트가 운용중이다.\n",
    "* 동일 작업을 두개의 프로젝트에서 수행할 필요는 없다. Program manager는 겹치고 중복되는 작업으 식별할 기회이다.\n",
    "* 과거에 두개 팀에 동일 문서작업이 배정된 이력이 있었단다."
   ]
  },
  {
   "cell_type": "markdown",
   "metadata": {},
   "source": [
    "# 20. Integrate scope with time and cost"
   ]
  },
  {
   "cell_type": "markdown",
   "metadata": {},
   "source": [
    "* 핵심 혜택인데, 일정과 비용으로 WBS를 연결할 수 있다는 것이다.\n",
    "* **WBS는 일정과 비용 성과를 통합하고 평가하는 바탕을 제공한다.** (ch.9)\n",
    "\n",
    "> 실무적 팁\n",
    "Project charter와 WBS를 동시에 작업하도록 고민해라.\n",
    "그러면 프로젝트의 용량에 대해서 조기에 정확한 표현을 얻을 수 있다.\n",
    "\n",
    "Project capacity는 뭘까?\n",
    "\n",
    "* 각 챕터에서 WBS를 포함해 갈 수록 프로젝트 용량에 대한 정확도가 증가한다."
   ]
  },
  {
   "cell_type": "markdown",
   "metadata": {},
   "source": [
    "<img src='./figures/f2.3.jpg'>"
   ]
  },
  {
   "cell_type": "markdown",
   "metadata": {},
   "source": [
    "# References\n",
    "1. Gladwell, M. 2008. Outliers. New York: Little Brown. 42.\n",
    "1. Practice Standard for WBS-Second Edition. 1.\n",
    "1. Practice Standard for WBS-Second Edition. 7.\n",
    "1. Tractor image from http://www.igortractors.com.uy (accessed June 2009). Copyright of Igor Tractors.\n",
    "1. Practice Standard for WBS-Second Edition. 1.\n",
    "1. Practice Standard for WBS-Second Edition. 7."
   ]
  },
  {
   "cell_type": "markdown",
   "metadata": {},
   "source": [
    "<img src='./figures/thank-you.gif'>\n",
    "<img src='./figures/QA.jpg'>\n",
    "# @sol2man2"
   ]
  }
 ],
 "metadata": {
  "kernelspec": {
   "display_name": "Python 3",
   "language": "python",
   "name": "python3"
  },
  "language_info": {
   "codemirror_mode": {
    "name": "ipython",
    "version": 3
   },
   "file_extension": ".py",
   "mimetype": "text/x-python",
   "name": "python",
   "nbconvert_exporter": "python",
   "pygments_lexer": "ipython3",
   "version": "3.4.3"
  }
 },
 "nbformat": 4,
 "nbformat_minor": 0
}
