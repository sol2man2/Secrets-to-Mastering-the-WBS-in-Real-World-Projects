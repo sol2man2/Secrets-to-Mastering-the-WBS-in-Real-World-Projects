{
 "cells": [
  {
   "cell_type": "markdown",
   "metadata": {},
   "source": [
    "<img src='./figures/projectfails.png'>"
   ]
  },
  {
   "cell_type": "markdown",
   "metadata": {},
   "source": [
    "* 일을 나누는 것이 아니라 산출물을 하위 전개하는게 WBS란다.\n",
    "* 뭘 할지가 어떤 일을 할지가 아니라 배포물에 집중하란 얘기지.\n",
    "* 프로젝트 범위 네애 있는 뭔가에 대한 답이다."
   ]
  },
  {
   "cell_type": "markdown",
   "metadata": {},
   "source": [
    "<img src='./figures/whatiswbs.png'>"
   ]
  },
  {
   "cell_type": "markdown",
   "metadata": {},
   "source": [
    "* 결국 Project의 범위를 식별하는 활동이 WBS이다."
   ]
  },
  {
   "cell_type": "markdown",
   "metadata": {},
   "source": [
    "* 일의 나열도 활동의 나열도 아니다.\n",
    "* 프로젝트의 범위를 적절히 관리하는 근본 툴이 WBS이다."
   ]
  },
  {
   "cell_type": "markdown",
   "metadata": {},
   "source": [
    "* PMI에서 정의한 내용은\n",
    "\n",
    "> According to The Practice Standard for Work Breakdown Structures, from PMI, “the WBS subdivides the project work into smaller, more manageable pieces of work, with each descending level of the WBS representing an increasingly detailed definition of the project work.”\n",
    "\n",
    "이란다."
   ]
  },
  {
   "cell_type": "markdown",
   "metadata": {},
   "source": [
    "> The WBS is a way to structure different products, results, and/or services that are unique, verifiable, tangible, and measurable. They are called deliverables."
   ]
  },
  {
   "cell_type": "markdown",
   "metadata": {},
   "source": [
    "1. 책  \n",
    "프로젝트의 최종 목표다. 뭘 배포할지의 답이 된다. 물리적인 책이 성과가 된다.  "
   ]
  },
  {
   "cell_type": "markdown",
   "metadata": {},
   "source": [
    "1.1 러서치 요약  \n",
    "활동에 대한 시장 분석이 아니다. 이건 시장 조사에서 온 배포물인 문서가 된다. 시장 조사를 위해서는 활동이 필요할 수도 있지만 WBS를 개발할 때는 활동 말고 배포물만 생각해라. 일단 프로젝트의 범위가 정의되면 배포물에 대한 활동을 해결할 수 있다."
   ]
  },
  {
   "cell_type": "markdown",
   "metadata": {},
   "source": [
    "1.2 스페인어 원고  \n",
    "프로젝트의 핵심 배포물이다. 책의 여러 구성 요소들이다. 원고는 표, 책소개, 챕터, 결론 , 참조 등등으로 구성된다. 스페인어 원고의 구성 요소는 배포되야 할 문서이다."
   ]
  },
  {
   "cell_type": "markdown",
   "metadata": {},
   "source": [
    "1.3 개정  \n",
    "책의 개정판을 말한다. 두개 배포물이 있는데 하나는 리뷰어가 준 정보가 반영된 원고이고 다를 하나는 리뷰어가 주는 정보를 편집자가 반영한 원고이다. 왜 최종본에 대한 활동이나 타스크가 나타나 있지 않은지 궁금하겠지만 현재 관심사항은 아니다."
   ]
  },
  {
   "cell_type": "markdown",
   "metadata": {},
   "source": [
    "1.4 설계  \n",
    "이 구성 요소는 책의 설계와 연계된 배포물을 말한다. 책의 크기, 해드, 종이 유형, 그래프 설계등의 구성을 의미한다. 책의 그래프적 설계를 알수 있는 부분이다."
   ]
  },
  {
   "cell_type": "markdown",
   "metadata": {},
   "source": [
    "1.5 프로잭트 관리 \n",
    "프로젝트 관리와 관련된 작업들을 나타낸다. 5장에서 해결된 예정이다."
   ]
  },
  {
   "cell_type": "markdown",
   "metadata": {},
   "source": [
    "* WBS를 개발하면서 뭘할지를 고민하지 말고 대신에 어떤 결과가 나오는지를 고민하란다."
   ]
  },
  {
   "cell_type": "markdown",
   "metadata": {},
   "source": [
    "* 와~ 계속 이 얘기의 반복이다."
   ]
  },
  {
   "cell_type": "code",
   "execution_count": null,
   "metadata": {
    "collapsed": true
   },
   "outputs": [],
   "source": []
  },
  {
   "cell_type": "code",
   "execution_count": null,
   "metadata": {
    "collapsed": true
   },
   "outputs": [],
   "source": []
  },
  {
   "cell_type": "code",
   "execution_count": null,
   "metadata": {
    "collapsed": true
   },
   "outputs": [],
   "source": []
  },
  {
   "cell_type": "code",
   "execution_count": null,
   "metadata": {
    "collapsed": true
   },
   "outputs": [],
   "source": []
  }
 ],
 "metadata": {
  "kernelspec": {
   "display_name": "Python 3",
   "language": "python",
   "name": "python3"
  },
  "language_info": {
   "codemirror_mode": {
    "name": "ipython",
    "version": 3
   },
   "file_extension": ".py",
   "mimetype": "text/x-python",
   "name": "python",
   "nbconvert_exporter": "python",
   "pygments_lexer": "ipython3",
   "version": "3.4.3"
  }
 },
 "nbformat": 4,
 "nbformat_minor": 0
}
