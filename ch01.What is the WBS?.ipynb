{
 "cells": [
  {
   "cell_type": "markdown",
   "metadata": {},
   "source": [
    "* 일을 나누는 것이 아니라 산출물을 하위 전개하는게 WBS란다.\n",
    "* 뭘 할지가 어떤 일을 할지가 아니라 배포물에 집중하란 얘기지.\n",
    "* 프로젝트 범위 네애 있는 뭔가에 대한 답이다."
   ]
  },
  {
   "cell_type": "markdown",
   "metadata": {},
   "source": [
    "* 결국 Project의 범위를 식별하는 활동이 WBS이다."
   ]
  },
  {
   "cell_type": "markdown",
   "metadata": {},
   "source": [
    "* 일의 나열도 활동의 나열도 아니다.\n",
    "* 프로젝트의 범위를 적절히 관리하는 근본 툴이 WBS이다."
   ]
  },
  {
   "cell_type": "markdown",
   "metadata": {},
   "source": [
    "* PMI에서 정의한 내용은\n",
    "\n",
    "> According to The Practice Standard for Work Breakdown Structures, from PMI, “the WBS subdivides the project work into smaller, more manageable pieces of work, with each descending level of the WBS representing an increasingly detailed definition of the project work.”\n",
    "\n",
    "이란다."
   ]
  },
  {
   "cell_type": "markdown",
   "metadata": {},
   "source": [
    "* "
   ]
  }
 ],
 "metadata": {
  "kernelspec": {
   "display_name": "Python 3",
   "language": "python",
   "name": "python3"
  },
  "language_info": {
   "codemirror_mode": {
    "name": "ipython",
    "version": 3
   },
   "file_extension": ".py",
   "mimetype": "text/x-python",
   "name": "python",
   "nbconvert_exporter": "python",
   "pygments_lexer": "ipython3",
   "version": "3.4.3"
  }
 },
 "nbformat": 4,
 "nbformat_minor": 0
}
