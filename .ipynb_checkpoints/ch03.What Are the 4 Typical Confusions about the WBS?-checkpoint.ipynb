{
 "cells": [
  {
   "cell_type": "markdown",
   "metadata": {},
   "source": [
    "# Overview\n",
    "\n",
    "* WBS에 대해 4개의 가장 흔한 오개념을 소개하겠다."
   ]
  },
  {
   "cell_type": "markdown",
   "metadata": {},
   "source": [
    "# Story 1: Confusing the wbs with work sequencing"
   ]
  },
  {
   "cell_type": "markdown",
   "metadata": {},
   "source": [
    "* 전시회에서 SW 툴을 판매하는 사람을 만나서 얘기하는데, 담당자는 자신들의 툴이 일과 종속성을 모두 표현할 수 있다고 자랑했다.\n",
    "* 저자는 담당자가 Schedule과 WBS를 혼동하고 있다는 것을 알았다.\n",
    "* WBS는 타스크와 종속성을 표한하는 방법이 아니다. (ch.9)"
   ]
  },
  {
   "cell_type": "markdown",
   "metadata": {},
   "source": [
    "# Story 2: Being trained with old wbs concepts"
   ]
  },
  {
   "cell_type": "markdown",
   "metadata": {},
   "source": [
    "* 북미 대학에서 석사 과정인 원생이 WBS 교육을 하는데, 그가 설명하는 WBS는 30년전의 개념이었다. (1960~1987년에 WBS의 개념이 풍부하지 않던 시절)\n",
    "* **30년 전에 WBS는 타스트 지향의 접근법**였음\n",
    "* 1987년 PMBOK에 WBS는 **a task-oriented family tree of activities**\n",
    "* 1996년 PMBOK에는 **a deliverable-oriented grouping of project elements which organizes and defines the total project scope**\n",
    "* 1987년과 그 전에는 Project management community는 task orientation과 activities를 논했는데 1996년 이후엔 deliverable orientation을 논하기 시작했다."
   ]
  },
  {
   "cell_type": "markdown",
   "metadata": {},
   "source": [
    "<img src='./figures/f3.1.jpg'>"
   ]
  },
  {
   "cell_type": "markdown",
   "metadata": {},
   "source": [
    "* 1996, 2000, 2004, 2008, 2013년에 PMBOK는 일관되게 **배포물 지향 구조**를 기술하고 있다.\n",
    "* 1987년 이전에는 **task**를 이후에는 **work, scope**을 언급한다."
   ]
  },
  {
   "cell_type": "markdown",
   "metadata": {},
   "source": [
    "# Story 3: Confusing the wbs with the schedule"
   ]
  },
  {
   "cell_type": "markdown",
   "metadata": {},
   "source": [
    "* PM이 멜로 WBS를 보냈는데, WBS가 아니라 Gantt chart였다.\n",
    "* PM은 WBS를 activities로 착각하고 있어던 것이다.\n",
    "* activiteis와 WBS간에 차이를 명확히 하기 위해 ch.9을 봐라.\n",
    "* WBS는 task가 아닌 deliverables와 outcomes에 집중한다.\\\n",
    "* task를 나열하는 것은 project의 시간 관련와 관련이 있지 project 범위 관리완 무관하다."
   ]
  },
  {
   "cell_type": "markdown",
   "metadata": {},
   "source": [
    "# Story 4: Confusing the wbs with an organizational breakdown structure"
   ]
  },
  {
   "cell_type": "markdown",
   "metadata": {},
   "source": [
    "* 마지막 실제 야기는 일부 PM은 그래프적인 구조와 표현과 하위 전개가 WBS로 생각한다.\n",
    "* 예를 들어 PM은 이해 관계자들에게 그림 3.2를 보낸다."
   ]
  },
  {
   "cell_type": "markdown",
   "metadata": {},
   "source": [
    "<img src='./figures/f3.2.jpg'>"
   ]
  },
  {
   "cell_type": "markdown",
   "metadata": {},
   "source": [
    "* 이건 WBS가 아니다. 기본적으로 WBS 정의에 맞지 않다.\n",
    "* 이건 Organizational Breakdown Structure(OBS)다."
   ]
  },
  {
   "cell_type": "markdown",
   "metadata": {},
   "source": [
    "# Avoid confusion with the RBS, OBS, CBS and BOM\n",
    "## Risk Breakdown Structure (RBS)\n",
    "## Resource Breakdown Structure (RBS)\n",
    "## Organizational Breakdown Structure (OBS)\n",
    "## Contract Breakdown Structure (CBS)\n",
    "## Cost Breakdown Structure (CBS)\n",
    "## Bill of Materials (BOM)"
   ]
  },
  {
   "cell_type": "markdown",
   "metadata": {},
   "source": [
    "* 왜 WBS가 아니냐면 work와 scope이 없다.\n",
    "* 유용한 도구들이지만 WBS는 아니다."
   ]
  },
  {
   "cell_type": "markdown",
   "metadata": {},
   "source": [
    "<img src='./figures/f3.3.jpg'>"
   ]
  },
  {
   "cell_type": "markdown",
   "metadata": {},
   "source": [
    "<img src='./figures/f3.4.jpg'>"
   ]
  },
  {
   "cell_type": "markdown",
   "metadata": {},
   "source": [
    "<img src='./figures/f3.5.jpg'>"
   ]
  },
  {
   "cell_type": "markdown",
   "metadata": {},
   "source": [
    "<img src='./figures/f3.6.jpg'>"
   ]
  },
  {
   "cell_type": "markdown",
   "metadata": {},
   "source": [
    "<img src='./figures/f3.7.jpg'>"
   ]
  },
  {
   "cell_type": "markdown",
   "metadata": {},
   "source": [
    "<img src='./figures/f3.8.jpg'>"
   ]
  },
  {
   "cell_type": "markdown",
   "metadata": {},
   "source": [
    "# References\n",
    "1. The Quotations Page. www.quotationspage.com/quote/26173.html (accessed August 2009)\n",
    "1. Reid, R. Dan and Sanders, Nada R. 2002. Operations Management. John Wiley & Sons. 457–458. Monk, Ellen and Wagner, Bret. 2009. Concepts in Enterprise Resource Planning. Course Technology Cengage Learning. 97-98. Quoted online at www.wikipedia.org. Author bolded certain words in original quote for the purpose of this book."
   ]
  },
  {
   "cell_type": "markdown",
   "metadata": {},
   "source": [
    "<img src='./figures/thank-you.gif'>\n",
    "<img src='./figures/QA.jpg'>\n",
    "# @sol2man2"
   ]
  }
 ],
 "metadata": {
  "kernelspec": {
   "display_name": "Python 3",
   "language": "python",
   "name": "python3"
  },
  "language_info": {
   "codemirror_mode": {
    "name": "ipython",
    "version": 3
   },
   "file_extension": ".py",
   "mimetype": "text/x-python",
   "name": "python",
   "nbconvert_exporter": "python",
   "pygments_lexer": "ipython3",
   "version": "3.4.3"
  }
 },
 "nbformat": 4,
 "nbformat_minor": 0
}
