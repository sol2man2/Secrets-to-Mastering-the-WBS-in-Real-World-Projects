{
 "cells": [
  {
   "cell_type": "markdown",
   "metadata": {},
   "source": [
    "# Overview\n",
    "\n",
    "* 똑똑한 사람과 천성이 학습자들의 특성중에 하나는 묻는걸 두려워하지 않는다는 것과 답에 귀를 기울인다는 것이다.\n",
    "* 여기서 짧고 간단한 질문들을 하려sek.\n",
    "* 질문들에 직접적이고 짧은 답을 찾는 것은 쉽지 않다.\n",
    "* WBS 안쓴다고 문제되겠나? \n",
    "* WBS를 다 안쓴다면 나는 써야하는가?\n",
    "* WBS를 어떻게 적용할 건가?\n",
    "* WBS는 어떤 업계에서 사용할 수 있나?\n",
    "* 어떤 Project에서 WBS를 써야하는가?\n",
    "* 이모든 질문에 생각한 후에 자신에 가치 있는지 입증하기 위해 WBS를 사용할지 결정해라."
   ]
  },
  {
   "cell_type": "markdown",
   "metadata": {},
   "source": [
    "* WBS를 어떻게 하면 적절하게 사용할지? 어떻게 하면 Project의 범위를 잘 관리할지에 고민해라.\n",
    "* 이번장은 이런 질문에 답을 얻어 보자."
   ]
  },
  {
   "cell_type": "markdown",
   "metadata": {},
   "source": [
    "# What if you don't use the WBS?"
   ]
  },
  {
   "cell_type": "markdown",
   "metadata": {},
   "source": [
    "* WBS를 사용하지 않을 시, Project의 범위와 Project의 다른 영역을 관리하는 방법에 대한 개선의 기회를 잃게 되는 것이다.\n",
    "* WBS없는 프로젝트 관리는 종착지에서 찾게될 목표물에 대한 구상없이 모르는 장소를 여행하는 것과 같다. "
   ]
  },
  {
   "cell_type": "markdown",
   "metadata": {},
   "source": [
    "* 다음은 가치있는 WBS를 사용하지 않아서 발생할 수 있는 것들이다.\n",
    "\n",
    " * 당신이 놓친 작업들을 발굴하는데에서 프로젝트 진척이 시작되니 프로젝트를 계획하는데 소비한 시간은 길어질 것이다. 이게 전형적이다.\n",
    " * 당신의 프로젝트 계획의 품질은 조잡하거나 가치있는 WBS를 사용할때를 따라가지 못할 수 있다.\n",
    " * 이해관계자는 프로젝트 작업에 대한 이해가 그리 좋지 않아서 이해관계자의 기대는 관리하기 어렵게 될 것이다. 이는 다국어 프로젝트나 세계화 프로젝트시에는 아주 심각하다.\n",
    " * 번위 변경 요청을 검토/평가/승인/리젝으로 프로젝트의 베이스라인을 반복적으로 수정하게 되어 리스크를 감수하게 된다.\n",
    " * 놓친 작업으로 예산을 넘기기 일수다. 추가적인 금전을 요구하게 된다. 시간을 까먹게 된다.\n",
    " * 승인된 프로젝트 범위 전체를 계획한것이 아닌걸 깨닫곤 또는 승인된 범위 외적인 범위를 계획하곤 힘들어진다.\n",
    " * 작업에 차이가 나는 부분에 작업 컴포넌트를 달성할 책임자와 책무자가 깔끔하지 않다.\n",
    " * 주기적인 재계획으로 납기를 넘길 수 있다.\n",
    " * 프로젝트가 완벽한 계획을 수립했더라도 범위가 엉성하게 정의되면 커스터머가 요구하는 걸 배포할 수 없다."
   ]
  },
  {
   "cell_type": "markdown",
   "metadata": {},
   "source": [
    "* 숨차다, 좋은 프로젝트 범위 정의를 가지고 WBS를 사용해야 하는 이유는 더 많다.\n",
    "* 전에 WBS를 사용한적이 없다면 학습곡선이 존재할 거다. 허나 단시간에 성공적으로 할 수 있다."
   ]
  },
  {
   "cell_type": "markdown",
   "metadata": {},
   "source": [
    "# Can you apply the WBS to any project?"
   ]
  },
  {
   "cell_type": "markdown",
   "metadata": {},
   "source": [
    "* WBS는 수년가 있었고 대부분의 프로젝트에 좋은 툴로 나온다.\n",
    "* DoD에서 제시한 국방 표준의 WBS를 볼 수 있다.\n",
    "* WBS는 산업계 전반에서 사용이 가능하다. IT, 헬스, 책 등등.\n",
    "* 내 커스터머는 텔레커뮤니케이션과 항공, 건설, 타 업계에서 사용하고 있다.\n",
    "\n",
    "> 다른 프로젝트나 다른 업계에서 사용되는 WBS는 모두 동일하다 단지 컨텐츠만 다를 뿐."
   ]
  },
  {
   "cell_type": "markdown",
   "metadata": {},
   "source": [
    "# When do you create and use the WBS?"
   ]
  },
  {
   "cell_type": "markdown",
   "metadata": {},
   "source": [
    "* WBS를 만들기 위해선, project scope statement이 필요할 테다.\n",
    "* WBS는 PSS와 일관되야 한다.\n",
    "* PMBOK에 따르면 요구사항 문서 또한 필요하다.\n",
    "* WBS와 Req.를 병렬로 정의할 수 있고 범위 베이스라인을 수립할 때까지 WBS를 정련한다."
   ]
  },
  {
   "cell_type": "markdown",
   "metadata": {},
   "source": [
    "* 프로젝트에 대해서 많이 알수록 현실성있는 계획을 수립할 수 있고 계획과 실행의 질이 높다.\n",
    "* 저자의 경우 **Project Charter**와 **Scope statement**를 받자마자 바로 실행한다.\n",
    "\n",
    "> 실무 팁\n",
    "프로젝트 시작하자마자 WBS를 작성해라. 요거이 핵심요소이다."
   ]
  },
  {
   "cell_type": "markdown",
   "metadata": {},
   "source": [
    "* 프로젝트 전반에서 WBS를 사용한다.\n",
    " * Create it during the project initiation,\n",
    " * Refine it during the project planning,\n",
    " * Use it to monitor and control during the project execution, and\n",
    " * Verify that work from internal and external sources is complete during the project closing."
   ]
  },
  {
   "cell_type": "markdown",
   "metadata": {},
   "source": [
    "# Who should create the WBS?"
   ]
  },
  {
   "cell_type": "markdown",
   "metadata": {},
   "source": [
    "* Project manager는 WBS 개발에 핵심 인력이고 이해 관계자는 참여자이다\n",
    "* Project manager는 project team과 적당한 이해 관계자와 일한다.\n",
    "* 프로젝트에 의존적으로 전문가가 포함될 수 있다.\n",
    "* WBS를 작업을 수행할 개개인과 함께 생성하는 건 중요하다.\n",
    "\n",
    "> 실무 팁\n",
    "WBS는 유사한 작업을 수행한 경험이 있는 사람이나 작업을 수행하기 위해 투입되는 사람과 작업되어야 한다."
   ]
  },
  {
   "cell_type": "markdown",
   "metadata": {},
   "source": [
    "* PM으로써 WBS를 iterative하게 가져간단다.\n",
    "* 생성 과정에 비즈 분석가도 한몫한다.\n",
    "* Program manager와 PMO manager도 핵심 주자다."
   ]
  },
  {
   "cell_type": "markdown",
   "metadata": {},
   "source": [
    "# How do you create the WBS?"
   ]
  },
  {
   "cell_type": "markdown",
   "metadata": {},
   "source": [
    "* 적당한 WBS를 생성하는건 어렵지 않다.\n",
    "* 간단한 툴이나 개념에서 도움을 얻을 수 있다.\n",
    "* 프로젝트 크기와 복잡도에 따라서 수시간에서 수일을 잡아 먹을 수 있다.\n",
    "* ch6은 효과적인 WBS를 생성하는 입증된 단계를 설명한다."
   ]
  },
  {
   "cell_type": "markdown",
   "metadata": {},
   "source": [
    "# How should you update the WBS?"
   ]
  },
  {
   "cell_type": "markdown",
   "metadata": {},
   "source": [
    "* 승인나기전에 언제나 수정할 수 있다.\n",
    "* 일단 승인나면 변경 제어 공정을 따를 필요가 있다.\n",
    "* WBS를 갱신할 때, 일관성 차원에서 다른 프로젝트 문서도 같이 리뷰되어야 한다."
   ]
  },
  {
   "cell_type": "markdown",
   "metadata": {},
   "source": [
    "> 실무 팁\n",
    "WBS 갱신은 일정과 리스크, 조달과 같은 문서에 영향을 주지 않는다는 점을 기억하자."
   ]
  },
  {
   "cell_type": "markdown",
   "metadata": {},
   "source": [
    "* Project문서를 갱신할 때 WBS에 영향을 줄 수도 있다."
   ]
  },
  {
   "cell_type": "markdown",
   "metadata": {},
   "source": [
    "* WBS는 때론 가용한 상태로 전환되는 신규 정보에 기반하여 정련된다.\n",
    "* Scope이 변경될 일이 없으면 정형의 변경 공정을 탈 필요는 없다."
   ]
  },
  {
   "cell_type": "markdown",
   "metadata": {},
   "source": [
    "<img src='./figures/f4.1.jpg'>"
   ]
  },
  {
   "cell_type": "markdown",
   "metadata": {},
   "source": [
    "> 실무 팁\n",
    "추적과 기록의 목적은 WBS를 수정할 때마다 파일의 버전을 생성한다."
   ]
  },
  {
   "cell_type": "markdown",
   "metadata": {},
   "source": [
    "# What is the PMO's role in the WBS?"
   ]
  },
  {
   "cell_type": "markdown",
   "metadata": {},
   "source": [
    "* The PMO can provide training about the WBS so project managers become more effective in its use.\n",
    "* The PMO staff can coach project managers on how to best use, apply, represent, and communicate the WBS.\n",
    "* The PMO can create WBS guidelines and templates to guide the process to create and update the WBS and to ensure consistency among different projects.\n",
    "* The PMO can research what the best software is for the organization to use when creating, updating, and communicating the WBS. It can procure the software and train the project managers and team in its use.\n",
    "* The PMO can work with project managers to ensure that the WBS is linked to the schedule and other project documents in order to ensure appropriate planning and higher success chances.\n",
    "* The PMO can ensure that project managers use the appropriate WBS templates and guidelines to facilitate the scope comparison of different projects belonging to the same program or portfolio."
   ]
  },
  {
   "cell_type": "markdown",
   "metadata": {},
   "source": [
    "* WBS 사용을 평가하기 시작하면서 Project manager가 겪는 많은 질문에 답을 했다.\n",
    "* 이 답변에 대한 배경 정보는 WBS의 이해를 돕고 WBS의 장접에 대한 확신을 줄게다."
   ]
  },
  {
   "cell_type": "markdown",
   "metadata": {},
   "source": [
    "# References\n",
    "1.  [U.S.] Department of Defense. 1993. Department of Defense Handbook: Work Breakdown Structures for Defense Material Items, MIL-STD-881B. Washington, D.C.: Department of Defense.\n",
    "1.  PMBOK® Guide—Fifth Edition. 125."
   ]
  },
  {
   "cell_type": "markdown",
   "metadata": {},
   "source": [
    "<img src='./figures/thank-you.gif'>\n",
    "<img src='./figures/QA.jpg'>\n",
    "# @sol2man2"
   ]
  }
 ],
 "metadata": {
  "kernelspec": {
   "display_name": "Python 3",
   "language": "python",
   "name": "python3"
  },
  "language_info": {
   "codemirror_mode": {
    "name": "ipython",
    "version": 3
   },
   "file_extension": ".py",
   "mimetype": "text/x-python",
   "name": "python",
   "nbconvert_exporter": "python",
   "pygments_lexer": "ipython3",
   "version": "3.4.3"
  }
 },
 "nbformat": 4,
 "nbformat_minor": 0
}
